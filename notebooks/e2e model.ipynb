{
 "cells": [
  {
   "cell_type": "code",
   "execution_count": null,
   "metadata": {},
   "outputs": [],
   "source": []
  }
 ],
 "metadata": {
  "kernelspec": {
   "display_name": "Python 3.10.2 ('venv': venv)",
   "language": "python",
   "name": "python3"
  },
  "language_info": {
   "name": "python",
   "version": "3.10.2"
  },
  "vscode": {
   "interpreter": {
    "hash": "9cf5e99d7ac82fa170dee8f2d834d81363ffb9f2abaf66a9d44c538ec571c339"
   }
  }
 },
 "nbformat": 4,
 "nbformat_minor": 5
}
