{
 "cells": [
  {
   "cell_type": "code",
   "execution_count": 5,
   "id": "f4530ddb",
   "metadata": {},
   "outputs": [],
   "source": [
    "import json\n",
    "import pandas as pd\n",
    "from collections import defaultdict\n",
    "from pathlib import Path"
   ]
  },
  {
   "cell_type": "code",
   "execution_count": null,
   "id": "aafa935c",
   "metadata": {},
   "outputs": [],
   "source": [
    "input_file = \"data/\""
   ]
  },
  {
   "cell_type": "code",
   "execution_count": 11,
   "id": "5d13e60b",
   "metadata": {},
   "outputs": [
    {
     "ename": "FileNotFoundError",
     "evalue": "[Errno 2] No such file or directory: 'data/WikiEvents/coref/train_coref.jsonl'",
     "output_type": "error",
     "traceback": [
      "\u001b[0;31m---------------------------------------------------------------------------\u001b[0m",
      "\u001b[0;31mFileNotFoundError\u001b[0m                         Traceback (most recent call last)",
      "Input \u001b[0;32mIn [11]\u001b[0m, in \u001b[0;36m<cell line: 2>\u001b[0;34m()\u001b[0m\n\u001b[1;32m      1\u001b[0m input_file \u001b[38;5;241m=\u001b[39m \u001b[38;5;124m\"\u001b[39m\u001b[38;5;124mdata/WikiEvents/coref/train_coref.jsonl\u001b[39m\u001b[38;5;124m\"\u001b[39m\n\u001b[0;32m----> 2\u001b[0m \u001b[38;5;28;01mwith\u001b[39;00m \u001b[38;5;28;43mopen\u001b[39;49m\u001b[43m(\u001b[49m\u001b[43minput_file\u001b[49m\u001b[43m)\u001b[49m \u001b[38;5;28;01mas\u001b[39;00m f:\n\u001b[1;32m      3\u001b[0m     lines \u001b[38;5;241m=\u001b[39m f\u001b[38;5;241m.\u001b[39mread()\u001b[38;5;241m.\u001b[39msplitlines()\n\u001b[1;32m      4\u001b[0m     df_inter \u001b[38;5;241m=\u001b[39m pd\u001b[38;5;241m.\u001b[39mDataFrame(lines)\n",
      "\u001b[0;31mFileNotFoundError\u001b[0m: [Errno 2] No such file or directory: 'data/WikiEvents/coref/train_coref.jsonl'"
     ]
    }
   ],
   "source": [
    "input_file = \"data/WikiEvents/coref/train_coref.jsonl\"\n",
    "with open(input_file) as f:\n",
    "    lines = f.read().splitlines()\n",
    "    df_inter = pd.DataFrame(lines)\n",
    "    df_inter.columns = ['json_element']\n",
    "    df_inter['json_element'].apply(json.loads)\n",
    "    df = pd.json_normalize(df_inter['json_element'].apply(json.loads))\n",
    "input_file = \"data/WikiEvents/train.jsonl\"\n",
    "with open(input_file) as f:\n",
    "    lines = f.read().splitlines()\n",
    "    df_inter = pd.DataFrame(lines)\n",
    "    df_inter.columns = ['json_element']\n",
    "    df_inter['json_element'].apply(json.loads)\n",
    "    df_we = pd.json_normalize(df_inter['json_element'].apply(json.loads))"
   ]
  },
  {
   "cell_type": "markdown",
   "id": "d7cadeb7",
   "metadata": {},
   "source": [
    "## Coref Mapping"
   ]
  },
  {
   "cell_type": "code",
   "execution_count": 16,
   "id": "0b8808ce",
   "metadata": {},
   "outputs": [],
   "source": [
    "df_we = pd.read_json('data/WikiEvents/train.json').set_index('doc_id')\n",
    "df = pd.read_json(\"data/WikiEvents/train_coref.json\").set_index('doc_key')\n",
    "\n",
    "coref_mapping = defaultdict(dict)\n",
    "for doc_id, row in df.iterrows():\n",
    "    for cluster in row.clusters:\n",
    "        for item in cluster:\n",
    "            coref_mapping[doc_id][item] = cluster\n",
    "for doc_id, row in df_we.iterrows():\n",
    "    for event in row.event_mentions:\n",
    "        for arg in event['arguments']:\n",
    "            if arg['entity_id'] not in coref_mapping[doc_id].keys():\n",
    "                coref_mapping[doc_id][arg['entity_id']] = arg['entity_id']\n",
    "\n",
    "with open(\"data/coref_mapping.json\", \"w\") as f:\n",
    "    json.dump(coref_mapping,f)"
   ]
  },
  {
   "cell_type": "markdown",
   "id": "08ace096",
   "metadata": {},
   "source": [
    "## Feasible Roles"
   ]
  },
  {
   "cell_type": "code",
   "execution_count": 2,
   "id": "a4679fb8",
   "metadata": {},
   "outputs": [
    {
     "ename": "NameError",
     "evalue": "name 'df_we' is not defined",
     "output_type": "error",
     "traceback": [
      "\u001b[0;31m---------------------------------------------------------------------------\u001b[0m",
      "\u001b[0;31mNameError\u001b[0m                                 Traceback (most recent call last)",
      "Input \u001b[0;32mIn [2]\u001b[0m, in \u001b[0;36m<cell line: 2>\u001b[0;34m()\u001b[0m\n\u001b[1;32m      1\u001b[0m event_types \u001b[38;5;241m=\u001b[39m []\n\u001b[0;32m----> 2\u001b[0m \u001b[38;5;28;01mfor\u001b[39;00m _,row \u001b[38;5;129;01min\u001b[39;00m \u001b[43mdf_we\u001b[49m\u001b[38;5;241m.\u001b[39miterrows():\n\u001b[1;32m      3\u001b[0m     \u001b[38;5;28;01mfor\u001b[39;00m em \u001b[38;5;129;01min\u001b[39;00m row\u001b[38;5;241m.\u001b[39mevent_mentions:\n\u001b[1;32m      4\u001b[0m         event_types\u001b[38;5;241m.\u001b[39mappend(em[\u001b[38;5;124m'\u001b[39m\u001b[38;5;124mevent_type\u001b[39m\u001b[38;5;124m'\u001b[39m])\n",
      "\u001b[0;31mNameError\u001b[0m: name 'df_we' is not defined"
     ]
    }
   ],
   "source": [
    "event_types = []\n",
    "for _,row in df_we.iterrows():\n",
    "    for em in row.event_mentions:\n",
    "        event_types.append(em['event_type'])\n",
    "event_types = list(set(event_types))\n",
    "kairos = pd.read_json(\"data/WikiEvents/Ontology/event_role_KAIROS.json\")\n",
    "kairos = kairos.transpose()\n",
    "problems = []\n",
    "for i in event_types:\n",
    "    if i not in kairos.index:\n",
    "        print(i)\n",
    "        problems.append(i)\n",
    "row1 = kairos.loc['Contact.RequestCommand.Unspecified']\n",
    "row2 = kairos.loc['Contact.ThreatenCoerce.Unspecified']\n",
    "row3 = kairos.loc['Contact.ThreatenCoerce.Unspecified']\n",
    "row4 = kairos.loc['Contact.RequestCommand.Unspecified']\n",
    "row1.name = 'Contact.RequestCommand.Broadcast'\n",
    "row2.name = 'Contact.ThreatenCoerce.Correspondence'\n",
    "row3.name = 'Contact.ThreatenCoerce.Broadcast'\n",
    "row4.name = 'Contact.RequestCommand.Meet'\n",
    "kairos = kairos.append([row1,row2,row3,row4])\n",
    "\n",
    "feasible_roles = defaultdict(dict)\n",
    "for idx,row in kairos.iterrows():\n",
    "    feasible_roles[idx] = row.roles\n",
    "with open(\"data/feasible_roles.json\", \"w\") as f:\n",
    "    json.dump(feasible_roles,f)"
   ]
  },
  {
   "cell_type": "code",
   "execution_count": null,
   "id": "f11d9e0b",
   "metadata": {},
   "outputs": [],
   "source": []
  }
 ],
 "metadata": {
  "kernelspec": {
   "display_name": "venv",
   "language": "python",
   "name": "venv"
  },
  "language_info": {
   "codemirror_mode": {
    "name": "ipython",
    "version": 3
   },
   "file_extension": ".py",
   "mimetype": "text/x-python",
   "name": "python",
   "nbconvert_exporter": "python",
   "pygments_lexer": "ipython3",
   "version": "3.10.2"
  }
 },
 "nbformat": 4,
 "nbformat_minor": 5
}
