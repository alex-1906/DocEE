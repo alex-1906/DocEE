{
 "cells": [
  {
   "cell_type": "code",
   "execution_count": 2,
   "id": "f4530ddb",
   "metadata": {},
   "outputs": [],
   "source": [
    "import json\n",
    "import pandas as pd\n",
    "from collections import defaultdict\n",
    "from pathlib import Path"
   ]
  },
  {
   "cell_type": "code",
   "execution_count": 4,
   "id": "a5ed503d",
   "metadata": {},
   "outputs": [],
   "source": [
    "input_file = \"data/WikiEvents/coref/train_coref.jsonl\"\n",
    "with open(input_file) as f:\n",
    "    lines = f.read().splitlines()\n",
    "    df_inter = pd.DataFrame(lines)\n",
    "    df_inter.columns = ['json_element']\n",
    "    df_inter['json_element'].apply(json.loads)\n",
    "    df = pd.json_normalize(df_inter['json_element'].apply(json.loads))\n",
    "input_file = \"data/WikiEvents/train.jsonl\"\n",
    "with open(input_file) as f:\n",
    "    lines = f.read().splitlines()\n",
    "    df_inter = pd.DataFrame(lines)\n",
    "    df_inter.columns = ['json_element']\n",
    "    df_inter['json_element'].apply(json.loads)\n",
    "    df_we = pd.json_normalize(df_inter['json_element'].apply(json.loads))"
   ]
  },
  {
   "cell_type": "markdown",
   "id": "d7cadeb7",
   "metadata": {},
   "source": [
    "## Coref Mapping"
   ]
  },
  {
   "cell_type": "code",
   "execution_count": 16,
   "id": "0b8808ce",
   "metadata": {},
   "outputs": [],
   "source": [
    "df_we = pd.read_json('data/WikiEvents/train.json').set_index('doc_id')\n",
    "df = pd.read_json(\"data/WikiEvents/train_coref.json\").set_index('doc_key')\n",
    "\n",
    "coref_mapping = defaultdict(dict)\n",
    "for doc_id, row in df.iterrows():\n",
    "    for cluster in row.clusters:\n",
    "        for item in cluster:\n",
    "            coref_mapping[doc_id][item] = cluster\n",
    "for doc_id, row in df_we.iterrows():\n",
    "    for event in row.event_mentions:\n",
    "        for arg in event['arguments']:\n",
    "            if arg['entity_id'] not in coref_mapping[doc_id].keys():\n",
    "                coref_mapping[doc_id][arg['entity_id']] = arg['entity_id']\n",
    "\n",
    "with open(\"data/coref_mapping.json\", \"w\") as f:\n",
    "    json.dump(coref_mapping,f)"
   ]
  },
  {
   "cell_type": "markdown",
   "id": "08ace096",
   "metadata": {},
   "source": [
    "## Feasible Roles"
   ]
  },
  {
   "cell_type": "code",
   "execution_count": 6,
   "id": "a4679fb8",
   "metadata": {},
   "outputs": [
    {
     "name": "stdout",
     "output_type": "stream",
     "text": [
      "Contact.RequestCommand.Broadcast\n",
      "Contact.ThreatenCoerce.Broadcast\n",
      "Contact.ThreatenCoerce.Correspondence\n",
      "Contact.RequestCommand.Meet\n"
     ]
    },
    {
     "name": "stderr",
     "output_type": "stream",
     "text": [
      "/var/folders/m6/4_p41bcx58jddx_zhmmqd_v00000gn/T/ipykernel_60602/2342869811.py:21: FutureWarning: The frame.append method is deprecated and will be removed from pandas in a future version. Use pandas.concat instead.\n",
      "  kairos = kairos.append([row1,row2,row3,row4])\n"
     ]
    }
   ],
   "source": [
    "event_types = []\n",
    "for _,row in df_we.iterrows():\n",
    "    for em in row.event_mentions:\n",
    "        event_types.append(em['event_type'])\n",
    "event_types = list(set(event_types))\n",
    "kairos = pd.read_json(\"data/Ontology/event_role_KAIROS.json\")\n",
    "kairos = kairos.transpose()\n",
    "problems = []\n",
    "for i in event_types:\n",
    "    if i not in kairos.index:\n",
    "        print(i)\n",
    "        problems.append(i)\n",
    "row1 = kairos.loc['Contact.RequestCommand.Unspecified']\n",
    "row2 = kairos.loc['Contact.ThreatenCoerce.Unspecified']\n",
    "row3 = kairos.loc['Contact.ThreatenCoerce.Unspecified']\n",
    "row4 = kairos.loc['Contact.RequestCommand.Unspecified']\n",
    "row1.name = 'Contact.RequestCommand.Broadcast'\n",
    "row2.name = 'Contact.ThreatenCoerce.Correspondence'\n",
    "row3.name = 'Contact.ThreatenCoerce.Broadcast'\n",
    "row4.name = 'Contact.RequestCommand.Meet'\n",
    "kairos = kairos.append([row1,row2,row3,row4])\n",
    "\n",
    "feasible_roles = defaultdict(dict)\n",
    "for idx,row in kairos.iterrows():\n",
    "    feasible_roles[idx] = row.roles\n",
    "with open(\"data/Ontology/feasible_roles.json\", \"w\") as f:\n",
    "    json.dump(feasible_roles,f)"
   ]
  },
  {
   "cell_type": "code",
   "execution_count": null,
   "id": "f11d9e0b",
   "metadata": {},
   "outputs": [],
   "source": []
  }
 ],
 "metadata": {
  "kernelspec": {
   "display_name": "Python 3.10.2 ('venv': venv)",
   "language": "python",
   "name": "python3"
  },
  "language_info": {
   "codemirror_mode": {
    "name": "ipython",
    "version": 3
   },
   "file_extension": ".py",
   "mimetype": "text/x-python",
   "name": "python",
   "nbconvert_exporter": "python",
   "pygments_lexer": "ipython3",
   "version": "3.10.2"
  },
  "vscode": {
   "interpreter": {
    "hash": "9cf5e99d7ac82fa170dee8f2d834d81363ffb9f2abaf66a9d44c538ec571c339"
   }
  }
 },
 "nbformat": 4,
 "nbformat_minor": 5
}
